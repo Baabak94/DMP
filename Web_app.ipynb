{
 "cells": [
  {
   "cell_type": "code",
   "execution_count": 8,
   "id": "4ac238bb",
   "metadata": {},
   "outputs": [],
   "source": [
    "# Importing the libraries\n",
    "import numpy as np\n",
    "import pandas as pd\n",
    "import matplotlib.pyplot as plt\n",
    "import pickle\n",
    "from sklearn.neural_network import MLPRegressor\n",
    "from sklearn import metrics\n",
    "\n"
   ]
  },
  {
   "cell_type": "code",
   "execution_count": 9,
   "id": "90cf0410",
   "metadata": {},
   "outputs": [
    {
     "data": {
      "text/html": [
       "<div>\n",
       "<style scoped>\n",
       "    .dataframe tbody tr th:only-of-type {\n",
       "        vertical-align: middle;\n",
       "    }\n",
       "\n",
       "    .dataframe tbody tr th {\n",
       "        vertical-align: top;\n",
       "    }\n",
       "\n",
       "    .dataframe thead th {\n",
       "        text-align: right;\n",
       "    }\n",
       "</style>\n",
       "<table border=\"1\" class=\"dataframe\">\n",
       "  <thead>\n",
       "    <tr style=\"text-align: right;\">\n",
       "      <th></th>\n",
       "      <th>p200</th>\n",
       "      <th>p4</th>\n",
       "      <th>p3/8</th>\n",
       "      <th>p3/4</th>\n",
       "      <th>Va</th>\n",
       "      <th>Vbeff</th>\n",
       "      <th>VMA</th>\n",
       "      <th>VFA</th>\n",
       "      <th>RAP cont</th>\n",
       "      <th>High PG</th>\n",
       "      <th>Low PG</th>\n",
       "      <th>Frequency</th>\n",
       "      <th>Temperature</th>\n",
       "      <th>Measure modulus (psi)</th>\n",
       "    </tr>\n",
       "  </thead>\n",
       "  <tbody>\n",
       "    <tr>\n",
       "      <th>0</th>\n",
       "      <td>6.5</td>\n",
       "      <td>46.0</td>\n",
       "      <td>19.0</td>\n",
       "      <td>0.0</td>\n",
       "      <td>2.8</td>\n",
       "      <td>10.95</td>\n",
       "      <td>13.75</td>\n",
       "      <td>79.6</td>\n",
       "      <td>0.0</td>\n",
       "      <td>64</td>\n",
       "      <td>-22</td>\n",
       "      <td>0.1</td>\n",
       "      <td>-10.0</td>\n",
       "      <td>2623000.0</td>\n",
       "    </tr>\n",
       "    <tr>\n",
       "      <th>1</th>\n",
       "      <td>6.5</td>\n",
       "      <td>46.0</td>\n",
       "      <td>19.0</td>\n",
       "      <td>0.0</td>\n",
       "      <td>2.8</td>\n",
       "      <td>10.95</td>\n",
       "      <td>13.75</td>\n",
       "      <td>79.6</td>\n",
       "      <td>0.0</td>\n",
       "      <td>64</td>\n",
       "      <td>-22</td>\n",
       "      <td>0.5</td>\n",
       "      <td>-10.0</td>\n",
       "      <td>3097000.0</td>\n",
       "    </tr>\n",
       "    <tr>\n",
       "      <th>2</th>\n",
       "      <td>6.5</td>\n",
       "      <td>46.0</td>\n",
       "      <td>19.0</td>\n",
       "      <td>0.0</td>\n",
       "      <td>2.8</td>\n",
       "      <td>10.95</td>\n",
       "      <td>13.75</td>\n",
       "      <td>79.6</td>\n",
       "      <td>0.0</td>\n",
       "      <td>64</td>\n",
       "      <td>-22</td>\n",
       "      <td>1.0</td>\n",
       "      <td>-10.0</td>\n",
       "      <td>3260000.0</td>\n",
       "    </tr>\n",
       "    <tr>\n",
       "      <th>3</th>\n",
       "      <td>6.5</td>\n",
       "      <td>46.0</td>\n",
       "      <td>19.0</td>\n",
       "      <td>0.0</td>\n",
       "      <td>2.8</td>\n",
       "      <td>10.95</td>\n",
       "      <td>13.75</td>\n",
       "      <td>79.6</td>\n",
       "      <td>0.0</td>\n",
       "      <td>64</td>\n",
       "      <td>-22</td>\n",
       "      <td>5.0</td>\n",
       "      <td>-10.0</td>\n",
       "      <td>3554000.0</td>\n",
       "    </tr>\n",
       "    <tr>\n",
       "      <th>4</th>\n",
       "      <td>6.5</td>\n",
       "      <td>46.0</td>\n",
       "      <td>19.0</td>\n",
       "      <td>0.0</td>\n",
       "      <td>2.8</td>\n",
       "      <td>10.95</td>\n",
       "      <td>13.75</td>\n",
       "      <td>79.6</td>\n",
       "      <td>0.0</td>\n",
       "      <td>64</td>\n",
       "      <td>-22</td>\n",
       "      <td>10.0</td>\n",
       "      <td>-10.0</td>\n",
       "      <td>3649000.0</td>\n",
       "    </tr>\n",
       "  </tbody>\n",
       "</table>\n",
       "</div>"
      ],
      "text/plain": [
       "   p200    p4  p3/8  p3/4   Va   Vbeff    VMA   VFA   RAP cont  High PG   \\\n",
       "0   6.5  46.0  19.0    0.0  2.8   10.95  13.75  79.6       0.0        64   \n",
       "1   6.5  46.0  19.0    0.0  2.8   10.95  13.75  79.6       0.0        64   \n",
       "2   6.5  46.0  19.0    0.0  2.8   10.95  13.75  79.6       0.0        64   \n",
       "3   6.5  46.0  19.0    0.0  2.8   10.95  13.75  79.6       0.0        64   \n",
       "4   6.5  46.0  19.0    0.0  2.8   10.95  13.75  79.6       0.0        64   \n",
       "\n",
       "   Low PG    Frequency  Temperature  Measure modulus (psi)  \n",
       "0       -22        0.1        -10.0              2623000.0  \n",
       "1       -22        0.5        -10.0              3097000.0  \n",
       "2       -22        1.0        -10.0              3260000.0  \n",
       "3       -22        5.0        -10.0              3554000.0  \n",
       "4       -22       10.0        -10.0              3649000.0  "
      ]
     },
     "execution_count": 9,
     "metadata": {},
     "output_type": "execute_result"
    }
   ],
   "source": [
    "data = pd.read_csv(\"dana.csv\")\n",
    "data.head()"
   ]
  },
  {
   "cell_type": "code",
   "execution_count": 10,
   "id": "2cac0376",
   "metadata": {},
   "outputs": [],
   "source": [
    "X = data.drop('Measure modulus (psi)', axis=1)\n",
    "y = data['Measure modulus (psi)']"
   ]
  },
  {
   "cell_type": "code",
   "execution_count": 13,
   "id": "021d6bc5",
   "metadata": {},
   "outputs": [],
   "source": [
    "NN = MLPRegressor(hidden_layer_sizes=(500,500,500), \n",
    "                  activation='relu',\n",
    "                  solver='adam',\n",
    "                  learning_rate_init = 0.003,\n",
    "                  beta_1 = 0.9,\n",
    "                  beta_2 = 0.999,\n",
    "                  alpha=0.01,\n",
    "                  batch_size= 400,\n",
    "                  max_iter=1500)"
   ]
  },
  {
   "cell_type": "code",
   "execution_count": 14,
   "id": "64f6042f",
   "metadata": {},
   "outputs": [
    {
     "data": {
      "text/plain": [
       "MLPRegressor(alpha=0.01, batch_size=400, hidden_layer_sizes=(500, 500, 500),\n",
       "             learning_rate_init=0.003, max_iter=1500)"
      ]
     },
     "execution_count": 14,
     "metadata": {},
     "output_type": "execute_result"
    }
   ],
   "source": [
    "NN.fit(X, y)"
   ]
  },
  {
   "cell_type": "code",
   "execution_count": 15,
   "id": "7e7f434b",
   "metadata": {},
   "outputs": [
    {
     "name": "stdout",
     "output_type": "stream",
     "text": [
      "Training --- MAE: 169792.62261461455 | RMSE: 272730.0848428338 | R^2: 0.940875180565043\n"
     ]
    }
   ],
   "source": [
    "ma1 = metrics.mean_absolute_error(y, NN.predict(X))\n",
    "ms1 = metrics.mean_squared_error(y, NN.predict(X))\n",
    "r1 = metrics.r2_score(y, NN.predict(X))\n",
    "print(\"Training ---\", \"MAE:\",ma1,\"|\", \"RMSE:\",ms1**.5,\"|\", \"R^2:\",r1)"
   ]
  },
  {
   "cell_type": "code",
   "execution_count": 16,
   "id": "fedc0bd1",
   "metadata": {},
   "outputs": [],
   "source": [
    "# Saving model to disk\n",
    "pickle.dump(NN, open('model.pkl','wb'))"
   ]
  },
  {
   "cell_type": "code",
   "execution_count": null,
   "id": "7a1b24a8",
   "metadata": {},
   "outputs": [],
   "source": [
    "# Loading model to compare the results\n",
    "model = pickle.load(open('model.pkl','rb'))\n",
    "print(model.predict([[2, 9, 6]]))"
   ]
  },
  {
   "cell_type": "code",
   "execution_count": null,
   "id": "526a0c00",
   "metadata": {},
   "outputs": [],
   "source": []
  },
  {
   "cell_type": "code",
   "execution_count": null,
   "id": "40e7bfd8",
   "metadata": {},
   "outputs": [],
   "source": []
  },
  {
   "cell_type": "code",
   "execution_count": null,
   "id": "9d409285",
   "metadata": {},
   "outputs": [],
   "source": []
  },
  {
   "cell_type": "code",
   "execution_count": null,
   "id": "6a20c809",
   "metadata": {},
   "outputs": [],
   "source": []
  },
  {
   "cell_type": "code",
   "execution_count": null,
   "id": "d0ae6202",
   "metadata": {},
   "outputs": [],
   "source": []
  }
 ],
 "metadata": {
  "kernelspec": {
   "display_name": "ml",
   "language": "python",
   "name": "ml"
  },
  "language_info": {
   "codemirror_mode": {
    "name": "ipython",
    "version": 3
   },
   "file_extension": ".py",
   "mimetype": "text/x-python",
   "name": "python",
   "nbconvert_exporter": "python",
   "pygments_lexer": "ipython3",
   "version": "3.9.7"
  }
 },
 "nbformat": 4,
 "nbformat_minor": 5
}
